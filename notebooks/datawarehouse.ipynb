{
 "cells": [
  {
   "cell_type": "code",
   "execution_count": 1,
   "metadata": {},
   "outputs": [],
   "source": [
    "import pandas as pd\n",
    "import numpy as np\n",
    "import os, sys\n",
    "\n",
    "os.getcwd()\n",
    "rpath = os.path.abspath('../')\n",
    "if rpath not in sys.path:\n",
    "    sys.path.insert(0,rpath)"
   ]
  },
  {
   "cell_type": "code",
   "execution_count": 2,
   "metadata": {},
   "outputs": [
    {
     "data": {
      "text/html": [
       "<div>\n",
       "<style scoped>\n",
       "    .dataframe tbody tr th:only-of-type {\n",
       "        vertical-align: middle;\n",
       "    }\n",
       "\n",
       "    .dataframe tbody tr th {\n",
       "        vertical-align: top;\n",
       "    }\n",
       "\n",
       "    .dataframe thead th {\n",
       "        text-align: right;\n",
       "    }\n",
       "</style>\n",
       "<table border=\"1\" class=\"dataframe\">\n",
       "  <thead>\n",
       "    <tr style=\"text-align: right;\">\n",
       "      <th></th>\n",
       "      <th>Channel Title</th>\n",
       "      <th>Channel Username</th>\n",
       "      <th>ID</th>\n",
       "      <th>Message</th>\n",
       "      <th>Date</th>\n",
       "      <th>Media Path</th>\n",
       "    </tr>\n",
       "  </thead>\n",
       "  <tbody>\n",
       "    <tr>\n",
       "      <th>0</th>\n",
       "      <td>ETHIO-AMERICAN MEDICAL TRAININGS( CPD ) &amp; HEAL...</td>\n",
       "      <td>@EAHCI</td>\n",
       "      <td>2396</td>\n",
       "      <td>ዛገ ይጀምራል\\n#የሞያ ፈቃድ በቅርቡ ለምታሳድሱ               \\...</td>\n",
       "      <td>2024-10-10 13:40:09+00:00</td>\n",
       "      <td>photos\\@EAHCI_2396.jpg</td>\n",
       "    </tr>\n",
       "    <tr>\n",
       "      <th>1</th>\n",
       "      <td>ETHIO-AMERICAN MEDICAL TRAININGS( CPD ) &amp; HEAL...</td>\n",
       "      <td>@EAHCI</td>\n",
       "      <td>2395</td>\n",
       "      <td>\\n#የሞያ ፈቃድ በቅርቡ ለምታሳድሱ               \\n\\n#CPD_...</td>\n",
       "      <td>2024-10-09 10:46:24+00:00</td>\n",
       "      <td>photos\\@EAHCI_2395.jpg</td>\n",
       "    </tr>\n",
       "    <tr>\n",
       "      <th>2</th>\n",
       "      <td>ETHIO-AMERICAN MEDICAL TRAININGS( CPD ) &amp; HEAL...</td>\n",
       "      <td>@EAHCI</td>\n",
       "      <td>2394</td>\n",
       "      <td>0</td>\n",
       "      <td>2024-10-07 10:56:58+00:00</td>\n",
       "      <td>0</td>\n",
       "    </tr>\n",
       "    <tr>\n",
       "      <th>3</th>\n",
       "      <td>ETHIO-AMERICAN MEDICAL TRAININGS( CPD ) &amp; HEAL...</td>\n",
       "      <td>@EAHCI</td>\n",
       "      <td>2393</td>\n",
       "      <td>#Basic_Abdominal_Ultrasound_Training @#Hawassa...</td>\n",
       "      <td>2024-10-07 08:38:38+00:00</td>\n",
       "      <td>photos\\@EAHCI_2393.jpg</td>\n",
       "    </tr>\n",
       "    <tr>\n",
       "      <th>4</th>\n",
       "      <td>ETHIO-AMERICAN MEDICAL TRAININGS( CPD ) &amp; HEAL...</td>\n",
       "      <td>@EAHCI</td>\n",
       "      <td>2392</td>\n",
       "      <td>እንዳያመልጥዎ \\n#Obstetric_Ultrasound_Training#Add...</td>\n",
       "      <td>2024-10-07 08:35:47+00:00</td>\n",
       "      <td>photos\\@EAHCI_2392.jpg</td>\n",
       "    </tr>\n",
       "  </tbody>\n",
       "</table>\n",
       "</div>"
      ],
      "text/plain": [
       "                                       Channel Title Channel Username    ID  \\\n",
       "0  ETHIO-AMERICAN MEDICAL TRAININGS( CPD ) & HEAL...           @EAHCI  2396   \n",
       "1  ETHIO-AMERICAN MEDICAL TRAININGS( CPD ) & HEAL...           @EAHCI  2395   \n",
       "2  ETHIO-AMERICAN MEDICAL TRAININGS( CPD ) & HEAL...           @EAHCI  2394   \n",
       "3  ETHIO-AMERICAN MEDICAL TRAININGS( CPD ) & HEAL...           @EAHCI  2393   \n",
       "4  ETHIO-AMERICAN MEDICAL TRAININGS( CPD ) & HEAL...           @EAHCI  2392   \n",
       "\n",
       "                                             Message  \\\n",
       "0  ዛገ ይጀምራል\\n#የሞያ ፈቃድ በቅርቡ ለምታሳድሱ               \\...   \n",
       "1  \\n#የሞያ ፈቃድ በቅርቡ ለምታሳድሱ               \\n\\n#CPD_...   \n",
       "2                                                  0   \n",
       "3  #Basic_Abdominal_Ultrasound_Training @#Hawassa...   \n",
       "4   እንዳያመልጥዎ \\n#Obstetric_Ultrasound_Training#Add...   \n",
       "\n",
       "                        Date              Media Path  \n",
       "0  2024-10-10 13:40:09+00:00  photos\\@EAHCI_2396.jpg  \n",
       "1  2024-10-09 10:46:24+00:00  photos\\@EAHCI_2395.jpg  \n",
       "2  2024-10-07 10:56:58+00:00                       0  \n",
       "3  2024-10-07 08:38:38+00:00  photos\\@EAHCI_2393.jpg  \n",
       "4  2024-10-07 08:35:47+00:00  photos\\@EAHCI_2392.jpg  "
      ]
     },
     "execution_count": 2,
     "metadata": {},
     "output_type": "execute_result"
    }
   ],
   "source": [
    "path = os.path.join(rpath, 'data', 'clean_merged_data.csv')\n",
    "data = pd.read_csv(path)\n",
    "data.head()"
   ]
  },
  {
   "cell_type": "code",
   "execution_count": 3,
   "metadata": {},
   "outputs": [
    {
     "name": "stdout",
     "output_type": "stream",
     "text": [
      "Data successfully written to table 'telegram_medical_data' in PostgreSQL.\n"
     ]
    }
   ],
   "source": [
    "from scripts.load_data import load_data_to_postgres\n",
    "\n",
    "# Assuming 'data' is your DataFrame\n",
    "load_data_to_postgres(data)\n"
   ]
  },
  {
   "cell_type": "code",
   "execution_count": 4,
   "metadata": {},
   "outputs": [
    {
     "name": "stdout",
     "output_type": "stream",
     "text": [
      "An error occurred: Execution failed on sql '\n",
      "        SELECT\n",
      "            name\n",
      "        FROM\n",
      "            sqlite_master\n",
      "        WHERE\n",
      "            type IN ('table', 'view')\n",
      "            AND name=?;\n",
      "        ': syntax error at or near \";\"\n",
      "LINE 8:             AND name=?;\n",
      "                              ^\n",
      "\n"
     ]
    },
    {
     "name": "stderr",
     "output_type": "stream",
     "text": [
      "c:\\Users\\Bereket\\Desktop\\object-detection\\scripts\\load_data.py:68: UserWarning: pandas only supports SQLAlchemy connectable (engine/connection) or database string URI or sqlite3 DBAPI2 connection. Other DBAPI2 objects are not tested. Please consider using SQLAlchemy.\n",
      "  df.to_sql(table_name, con=connection, if_exists='replace', index=False)\n"
     ]
    }
   ],
   "source": [
    "from scripts.load_data import load_data_from_postgres, load_data_using_sqlalchemy,load_data_to_postgres\n",
    "\n",
    "load_data_to_postgres(data)\n"
   ]
  },
  {
   "cell_type": "code",
   "execution_count": null,
   "metadata": {},
   "outputs": [],
   "source": [
    "query = \"SELECT * FROM user_satisfaction_scores;\"  # Replace with your actual table name\n",
    "\n",
    "# Load data from PostgreSQL\n",
    "df = load_data_from_postgres(query)\n",
    "\n",
    "# Display the first few rows of the dataframe\n",
    "if df is not None:\n",
    "    print(\"Successfully loaded the data\")\n",
    "else:\n",
    "    print(\"Failed to load data.\")\n",
    "df"
   ]
  }
 ],
 "metadata": {
  "kernelspec": {
   "display_name": "venv",
   "language": "python",
   "name": "python3"
  },
  "language_info": {
   "codemirror_mode": {
    "name": "ipython",
    "version": 3
   },
   "file_extension": ".py",
   "mimetype": "text/x-python",
   "name": "python",
   "nbconvert_exporter": "python",
   "pygments_lexer": "ipython3",
   "version": "3.12.0"
  }
 },
 "nbformat": 4,
 "nbformat_minor": 2
}
